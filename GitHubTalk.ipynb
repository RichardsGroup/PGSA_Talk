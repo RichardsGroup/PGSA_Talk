{
 "metadata": {
  "name": "",
  "signature": "sha256:6acf0e4d11b868f2a4a8f7cbe5250aff24399a028d1ab4b7d2c6e797a525ca81"
 },
 "nbformat": 3,
 "nbformat_minor": 0,
 "worksheets": [
  {
   "cells": [
    {
     "cell_type": "code",
     "collapsed": false,
     "input": [
      "Hi Tina"
     ],
     "language": "python",
     "metadata": {},
     "outputs": []
    }
   ],
   "metadata": {}
  }
 ]
}