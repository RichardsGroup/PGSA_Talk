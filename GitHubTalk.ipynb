{
 "metadata": {
  "name": "",
  "signature": "sha256:da8c0cdee56fddab64c61641ec7856cdec4439ab1be42c86f6a15242a5f293ff"
 },
 "nbformat": 3,
 "nbformat_minor": 0,
 "worksheets": [
  {
   "cells": [
    {
     "cell_type": "code",
     "collapsed": false,
     "input": [],
     "language": "python",
     "metadata": {},
     "outputs": []
    }
   ],
   "metadata": {}
  }
 ]
}