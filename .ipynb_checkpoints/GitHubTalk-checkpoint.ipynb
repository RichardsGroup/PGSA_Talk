{
 "metadata": {
  "celltoolbar": "Slideshow",
  "name": "",
  "signature": "sha256:404611d7ca493cdb40ea99f43925880acc545ebab596a2b7471f86164e56ee8d"
 },
 "nbformat": 3,
 "nbformat_minor": 0,
 "worksheets": [
  {
   "cells": [
    {
     "cell_type": "markdown",
     "metadata": {
      "slideshow": {
       "slide_type": "slide"
      }
     },
     "source": [
      "##An Introduction to Ipython, Git, and GitHub\n",
      "####Tina Peters and John Timlin"
     ]
    },
    {
     "cell_type": "markdown",
     "metadata": {
      "slideshow": {
       "slide_type": "slide"
      }
     },
     "source": [
      "###Ipython Notebook\n",
      "1. A web-based interactive computational environment where you can combine:\n",
      "    * code\n",
      "    * text\n",
      "    * mathematics\n",
      "    * plots \n",
      "    * media (picutes, video's, etc.) "
     ]
    },
    {
     "cell_type": "code",
     "collapsed": false,
     "input": [
      "import numpy as np\n",
      "x=np.linspace(0,20,21)\n",
      "\n",
      "print x"
     ],
     "language": "python",
     "metadata": {
      "slideshow": {
       "slide_type": "subslide"
      }
     },
     "outputs": [
      {
       "output_type": "stream",
       "stream": "stdout",
       "text": [
        "[  0.   1.   2.   3.   4.   5.   6.   7.   8.   9.  10.  11.  12.  13.  14.\n",
        "  15.  16.  17.  18.  19.  20.]\n"
       ]
      }
     ],
     "prompt_number": 6
    },
    {
     "cell_type": "markdown",
     "metadata": {
      "slideshow": {
       "slide_type": "subslide"
      }
     },
     "source": [
      "Text and Block Quotes:\n",
      "\n",
      ">She should have died hereafter. There would have been a time for such a word. Tomorrow, and tomorrow, and tomorrow, Creeps in this petty pace from day to day To the last syllable of recorded time, And all our yesterdays have lighted fools\n",
      "The way to dusty death. Out, out, brief candle! Life\u2019s but a walking shadow, a poor player That struts and frets his hour upon the stage and then is heard no more. It is a tale Told by an idiot, full of sound and fury, Signifying nothing. --Macbeth"
     ]
    },
    {
     "cell_type": "markdown",
     "metadata": {
      "slideshow": {
       "slide_type": "subslide"
      }
     },
     "source": [
      "Latex equations work as well: \n",
      "\n",
      "\n",
      "* $a^2+b^2=c^2$\n",
      "* $\\Delta E=-13.6eV (\\frac{1}{n_1^2}-\\frac{1}{n_2^2})$\n",
      "\n",
      "* $\\Delta F= \\sqrt{A\\sigma^2 + \\frac{F}{g}}$"
     ]
    },
    {
     "cell_type": "code",
     "collapsed": false,
     "input": [
      "%matplotlib inline \n",
      "import matplotlib.pyplot as plt\n",
      "import numpy as np\n",
      "x = np.linspace(0, 3*np.pi, 1000)\n",
      "plt.plot(x, np.sin(x**2))\n",
      "plt.title('A simple chirp');"
     ],
     "language": "python",
     "metadata": {
      "slideshow": {
       "slide_type": "subslide"
      }
     },
     "outputs": [
      {
       "metadata": {},
       "output_type": "display_data",
       "png": "[encoded data removed]",
       "text": [
        "<matplotlib.figure.Figure at 0x7f295e093f50>"
       ]
      }
     ],
     "prompt_number": 2
    },
    {
     "cell_type": "code",
     "collapsed": false,
     "input": [
      "from IPython.display import Image\n",
      "Image(url='http://www.soothetube.com/wp-content/uploads/2012/05/Bob-Ross2.jpg')"
     ],
     "language": "python",
     "metadata": {
      "slideshow": {
       "slide_type": "subslide"
      }
     },
     "outputs": [
      {
       "html": [
        "<img src=\"http://www.soothetube.com/wp-content/uploads/2012/05/Bob-Ross2.jpg\"/>"
       ],
       "metadata": {},
       "output_type": "pyout",
       "prompt_number": 7,
       "text": [
        "<IPython.core.display.Image at 0x7fb064685e50>"
       ]
      }
     ],
     "prompt_number": 7
    },
    {
     "cell_type": "code",
     "collapsed": false,
     "input": [
      "from IPython.display import YouTubeVideo\n",
      "YouTubeVideo('o8DypPS7xnY')"
     ],
     "language": "python",
     "metadata": {
      "slideshow": {
       "slide_type": "subslide"
      }
     },
     "outputs": [
      {
       "html": [
        "\n",
        "        <iframe\n",
        "            width=\"400\"\n",
        "            height=300\"\n",
        "            src=\"https://www.youtube.com/embed/o8DypPS7xnY\"\n",
        "            frameborder=\"0\"\n",
        "            allowfullscreen\n",
        "        ></iframe>\n",
        "        "
       ],
       "metadata": {},
       "output_type": "pyout",
       "prompt_number": 3,
       "text": [
        "<IPython.lib.display.YouTubeVideo at 0x7f853c4ccdd0>"
       ]
      }
     ],
     "prompt_number": 3
    },
    {
     "cell_type": "markdown",
     "metadata": {
      "slideshow": {
       "slide_type": "slide"
      }
     },
     "source": [
      "###Ipython Notebook\n",
      "1. A web-based interactive computational environment where you can combine:\n",
      "    * code\n",
      "    * text\n",
      "    * mathematics\n",
      "    * plots \n",
      "    * media (picutes, video's, etc.) \n"
     ]
    },
    {
     "cell_type": "markdown",
     "metadata": {
      "slideshow": {
       "slide_type": "fragment"
      }
     },
     "source": [
      "2. Ipython Presentations using Reveal.js\n",
      "\n",
      "3. Ipython on GitHub\n",
      "\n",
      "4. More info: [http://ipython.org/](http://ipython.org/)"
     ]
    },
    {
     "cell_type": "markdown",
     "metadata": {
      "slideshow": {
       "slide_type": "slide"
      }
     },
     "source": [
      "###GitHub Basics\n",
      "* A web based Git repository hosting service\n",
      "* Git\n",
      "    * Created as a source control management system\n",
      "    * Ideal for keeping old versions of code \n",
      "    * Every directory initiated with Git is a new repository\n",
      "   "
     ]
    },
    {
     "cell_type": "markdown",
     "metadata": {
      "slideshow": {
       "slide_type": "fragment"
      }
     },
     "source": [
      "* The most challenging task with Git is to remember the syntax  \n",
      "* Need a dictionary of git commands? Look no further!!  "
     ]
    },
    {
     "cell_type": "markdown",
     "metadata": {
      "slideshow": {
       "slide_type": "slide"
      }
     },
     "source": [
      "###Git Commands\n",
      "\n",
      "* git init\n",
      "    * Initialize a folder as a git repository"
     ]
    },
    {
     "cell_type": "markdown",
     "metadata": {
      "slideshow": {
       "slide_type": "fragment"
      }
     },
     "source": [
      "* git clone <URL>\n",
      "    + Copies a repository on GitHub locally"
     ]
    },
    {
     "cell_type": "markdown",
     "metadata": {
      "slideshow": {
       "slide_type": "fragment"
      }
     },
     "source": [
      "* git pull\n",
      "    + Download the contents of the online repository to your local computer"
     ]
    },
    {
     "cell_type": "markdown",
     "metadata": {
      "slideshow": {
       "slide_type": "fragment"
      }
     },
     "source": [
      "* git add <file>\n",
      "    + Adds the file to a staging area to prepare for upload"
     ]
    },
    {
     "cell_type": "markdown",
     "metadata": {
      "slideshow": {
       "slide_type": "slide"
      }
     },
     "source": [
      "###Git Commands\n",
      "* git commit -m \"Message about commit\"\n",
      "    + Prepares the file to be moved to the online repository with a message describing the change to the file"
     ]
    },
    {
     "cell_type": "markdown",
     "metadata": {
      "slideshow": {
       "slide_type": "fragment"
      }
     },
     "source": [
      "* git push\n",
      "    + Pushes the file or set of files to the online repository on GitHub"
     ]
    },
    {
     "cell_type": "markdown",
     "metadata": {
      "slideshow": {
       "slide_type": "slide"
      }
     },
     "source": [
      "###Git Commands\n",
      "These very simple commands are all you really need to use git and GitHub:\n",
      "\n",
      "* git init\n",
      "\n",
      "* git pull\n",
      "\n",
      "* git add\n",
      "\n",
      "* git commit -m \"Text\"\n",
      "\n",
      "* git push\n",
      "\n",
      "Lets set up git!!"
     ]
    },
    {
     "cell_type": "markdown",
     "metadata": {
      "slideshow": {
       "slide_type": "slide"
      }
     },
     "source": [
      "###How to Set Up Git\n",
      "\n",
      "1. Go to github.com\n",
      "    * Make an account. \n",
      "    * Use your @drexel.edu email address.\n",
      "2. Go to git-scm.com\n",
      "    * Download and install Git on your computer\n",
      "3. Configure Git on your machine for you GitHub.com account"
     ]
    },
    {
     "cell_type": "code",
     "collapsed": false,
     "input": [
      "$git config --global user.name \"[name]\"\n",
      "$git config --global user.email \"[email address]\"\n",
      "$git config --global color.ui auto"
     ],
     "language": "python",
     "metadata": {},
     "outputs": []
    },
    {
     "cell_type": "markdown",
     "metadata": {
      "slideshow": {
       "slide_type": "subslide"
      }
     },
     "source": [
      "###How to Use Git for Version Control (By yourself)\n",
      "\n",
      "1. Go to github.com and login\n",
      "2. Make a new repository\n",
      "3. Copy the https clone URL\n",
      "4. On your command line, in the folder where you would like the code to be, 'clone' this new repository\n",
      "5. In the cloned directory, start your new project.\n",
      "    * Code, code, code...\n",
      "6. Done working for the day, now push the code back up to GitHub to save your version."
     ]
    },
    {
     "cell_type": "code",
     "collapsed": false,
     "input": [
      "$git add mynewcode.py\n",
      "$git add .\n",
      "$git status\n",
      "$git commit -m \"first commit\"\n",
      "$git push"
     ],
     "language": "python",
     "metadata": {
      "slideshow": {
       "slide_type": "slide"
      }
     },
     "outputs": []
    },
    {
     "cell_type": "markdown",
     "metadata": {
      "slideshow": {
       "slide_type": "subslide"
      }
     },
     "source": [
      "###How to Use Git for Version Control (Two Machines)\n",
      "\n",
      "1. On your home computer, clone the same repository\n",
      "    * this will pull down all of your past work on the whole directory\n",
      "2. Work in the cloned repository\n",
      "3. Done working, push the code back up to GitHub to save your version.\n",
      "4. Get to work in the morning, pull your changes from last night down to that computer"
     ]
    },
    {
     "cell_type": "code",
     "collapsed": false,
     "input": [
      "$git pull"
     ],
     "language": "python",
     "metadata": {
      "slideshow": {
       "slide_type": "slide"
      }
     },
     "outputs": []
    },
    {
     "cell_type": "markdown",
     "metadata": {
      "slideshow": {
       "slide_type": "slide"
      }
     },
     "source": [
      "###How to Use Git in Collaboration"
     ]
    },
    {
     "cell_type": "markdown",
     "metadata": {
      "slideshow": {
       "slide_type": "fragment"
      }
     },
     "source": [
      "* Find the repository of the person you want to collaborate with on GitHub.com"
     ]
    },
    {
     "cell_type": "markdown",
     "metadata": {
      "slideshow": {
       "slide_type": "fragment"
      }
     },
     "source": [
      "* Click 'Fork' in the upper right corner of the screen.\n",
      "    * Makes a copy of someone else's repository on your account."
     ]
    },
    {
     "cell_type": "markdown",
     "metadata": {
      "slideshow": {
       "slide_type": "fragment"
      }
     },
     "source": [
      "* Make all the changes you want to make.\n",
      "    * Code, code, code..."
     ]
    },
    {
     "cell_type": "markdown",
     "metadata": {
      "slideshow": {
       "slide_type": "fragment"
      }
     },
     "source": [
      "* Commit the changes to YOUR local code, to the 'master' branch."
     ]
    },
    {
     "cell_type": "markdown",
     "metadata": {
      "slideshow": {
       "slide_type": "slide"
      }
     },
     "source": [
      "###How to Use Git in Collaboration"
     ]
    },
    {
     "cell_type": "markdown",
     "metadata": {
      "slideshow": {
       "slide_type": "fragment"
      }
     },
     "source": [
      "* Make a 'Pull Request', green button in top left.\n",
      "    * brings up a page that shows line by line differences between original and yours"
     ]
    },
    {
     "cell_type": "markdown",
     "metadata": {
      "slideshow": {
       "slide_type": "fragment"
      }
     },
     "source": [
      "* Click 'Make Pull Request'\n",
      "    * You should make a note to the owner of the original about why you want them to accept the change."
     ]
    },
    {
     "cell_type": "markdown",
     "metadata": {
      "slideshow": {
       "slide_type": "fragment"
      }
     },
     "source": [
      "* Click 'Create Pull Request'\n",
      "    * now it is submitted, and the owner can see and approve it."
     ]
    },
    {
     "cell_type": "markdown",
     "metadata": {
      "slideshow": {
       "slide_type": "slide"
      }
     },
     "source": [
      "###Other Cool Git Stuff"
     ]
    },
    {
     "cell_type": "markdown",
     "metadata": {
      "slideshow": {
       "slide_type": "fragment"
      }
     },
     "source": [
      "* [Private Repositories for Science Purposes](https://github.com/blog/1840-improving-github-for-science)\n",
      "    * You must use your @drexel.edu email address\n",
      "    * Then submit a request here: [education.github.com/discount_requests/new](https://education.github.com/discount_requests/new)"
     ]
    },
    {
     "cell_type": "markdown",
     "metadata": {
      "slideshow": {
       "slide_type": "fragment"
      }
     },
     "source": [
      "* GUI Interface on your local machine\n",
      "    * [mac.github.com](https://mac.github.com/)\n",
      "    * Everything we just showed on the command line or online\n",
      "    * You can manage on your own machine, while offline."
     ]
    },
    {
     "cell_type": "markdown",
     "metadata": {
      "slideshow": {
       "slide_type": "slide"
      }
     },
     "source": [
      "###Why use Git/GitHub??\n",
      "* Provides online backups of code and Latex papers\n",
      "\n",
      "* See previous versions of code (versions that work!!)\n",
      "\n",
      "* Automatically keeps old version (no need to do this by hand)\n",
      "\n",
      "* Ideal way to collaborate with other experts in your field\n",
      "\n",
      "* Allows you to access your work from anywhere (Meetings, Talks, vacation...)\n",
      "\n",
      "* Keeps Science Public and accesible \n",
      "\n",
      "#### Thank you, any questions??"
     ]
    }
   ],
   "metadata": {}
  }
 ]
}