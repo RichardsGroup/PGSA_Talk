{
 "metadata": {
  "celltoolbar": "Slideshow",
  "name": "",
  "signature": "sha256:a8a893cbdbfb18c03c953bbcf88359c65303a85db8c340c4c784876101146013"
 },
 "nbformat": 3,
 "nbformat_minor": 0,
 "worksheets": [
  {
   "cells": [
    {
     "cell_type": "markdown",
     "metadata": {
      "slideshow": {
       "slide_type": "slide"
      }
     },
     "source": [
      "#GitHub Basics\n",
      "1. A web based Git repository hosting service\n",
      "2. Git\n",
      "    * Created as a source control management system\n",
      "    * Ideal for keeping old versions of code \n",
      "    * Every directory initiated with Git is a new repository\n",
      "   "
     ]
    },
    {
     "cell_type": "markdown",
     "metadata": {
      "slideshow": {
       "slide_type": "subslide"
      }
     },
     "source": [
      "#Ipython Notebook\n",
      "1. A web-based interactive computational environment where you can combine:\n",
      "    * code"
     ]
    },
    {
     "cell_type": "markdown",
     "metadata": {
      "slideshow": {
       "slide_type": "subslide"
      }
     },
     "source": [
      "#Ipython Notebook\n",
      "1. A web-based interactive computational environment where you can combine:\n",
      "    * code\n",
      "    * text\n",
      "    * mathematics\n",
      "    * plots \n",
      "    * rich media \n",
      "2. Ipython notebook also works with GitHub"
     ]
    },
    {
     "cell_type": "markdown",
     "metadata": {
      "slideshow": {
       "slide_type": "subslide"
      }
     },
     "source": [
      "#Ipython Notebook\n",
      "1. A web-based interactive computational environment where you can combine:\n",
      "    * code\n",
      "    * text\n",
      "    * mathematics\n",
      "    * plots \n",
      "    * rich media \n",
      "2. Ipython notebook also works with GitHub"
     ]
    },
    {
     "cell_type": "markdown",
     "metadata": {
      "slideshow": {
       "slide_type": "subslide"
      }
     },
     "source": [
      "#Ipython Notebook\n",
      "1. A web-based interactive computational environment where you can combine:\n",
      "    * code\n",
      "    * text\n",
      "    * mathematics\n",
      "    * plots \n",
      "    * rich media \n",
      "2. Ipython notebook also works with GitHub"
     ]
    },
    {
     "cell_type": "markdown",
     "metadata": {
      "slideshow": {
       "slide_type": "subslide"
      }
     },
     "source": [
      "#Ipython Notebook\n",
      "1. A web-based interactive computational environment where you can combine:\n",
      "    * code\n",
      "    * text\n",
      "    * mathematics\n",
      "    * plots \n",
      "    * rich media \n",
      "2. Ipython notebook also works with GitHub"
     ]
    }
   ],
   "metadata": {}
  }
 ]
}