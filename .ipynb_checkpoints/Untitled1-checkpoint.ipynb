{
 "metadata": {
  "name": "",
  "signature": "sha256:2884a085e94ad7ae3e3a7ae708df80849ffdc2e8f81fbb5b0fc6e92194328e88"
 },
 "nbformat": 3,
 "nbformat_minor": 0,
 "worksheets": [
  {
   "cells": [
    {
     "cell_type": "code",
     "collapsed": false,
     "input": [
      "from IPython.nbconvert.exporters import SlidesExporter\n",
      "from IPython.config import Config\n",
      "\n",
      "from IPython.nbformat import current as nbformat\n",
      "\n",
      "infile = \"GitHubTalk.ipynb\" # load the name of your slideshow\n",
      "outfile = \"GitHubTalk.slides.html\"\n",
      "\n",
      "notebook = open(infile).read()\n",
      "notebook_json = nbformat.reads_json(notebook)\n",
      "\n",
      "# This is the config object I talked before: \n",
      "# After the 'url_prefix', you can set the location of your \n",
      "# local reveal.js library, i.e. if the reveal.js is located \n",
      "# in the same directory as your talk.slides.html, then \n",
      "# set 'url_prefix':'reveal.js'.\n",
      "\n",
      "c = Config({\n",
      "            'RevealHelpTransformer':{\n",
      "                'enabled':True,\n",
      "                'url_prefix':'reveal.js',\n",
      "                },                \n",
      "            })\n",
      "\n",
      "exportHtml = SlidesExporter(config=c)\n",
      "(body,resources) = exportHtml.from_notebook_node(notebook_json)\n",
      "\n",
      "open(outfile, 'w').write(body.encode('utf-8'))"
     ],
     "language": "python",
     "metadata": {},
     "outputs": [],
     "prompt_number": 3
    },
    {
     "cell_type": "code",
     "collapsed": false,
     "input": [],
     "language": "python",
     "metadata": {},
     "outputs": []
    }
   ],
   "metadata": {}
  }
 ]
}