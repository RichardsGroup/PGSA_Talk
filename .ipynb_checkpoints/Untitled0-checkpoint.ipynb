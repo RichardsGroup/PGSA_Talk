{
 "metadata": {
  "name": "",
  "signature": "sha256:61ce7b93ac5fa42c6bee00e7321cbf39d6326f0c445a0aec654774d829a95212"
 },
 "nbformat": 3,
 "nbformat_minor": 0,
 "worksheets": [
  {
   "cells": [
    {
     "cell_type": "code",
     "collapsed": false,
     "input": [],
     "language": "python",
     "metadata": {},
     "outputs": []
    }
   ],
   "metadata": {}
  }
 ]
}